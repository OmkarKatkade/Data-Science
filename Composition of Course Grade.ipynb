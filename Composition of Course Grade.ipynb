{
 "cells": [
  {
   "cell_type": "markdown",
   "id": "b3a25e9d",
   "metadata": {},
   "source": [
    "# Week 1: Programming Decomposition of Course Grade Assignment\n",
    "Suppose the course grade is based on 30 assignments (each scored 0 to 100), three projects (each scored 0 to 100), and attendance in 15 classes (each scored as present or absent). The assignments account for 30% of the course grade, the projects are 20% each (60% total), and attendance is 10% of the course grade. Suppose 10 of the 30 assignments are included in the final course score. The 10 are randomly selected. Letter grades are defined in the syllabus.\n",
    "\n",
    "Choose one of the following options:\n",
    "\n",
    "1. Describe in writing how you would calculate the course grade for one student. Submit your written description as a text file\n",
    "2. Write a program in Python 3 that calculates the final grade for a student. Submit a Jupyter notebook via Blackboard.No visualization is required.\n",
    "\n",
    "Feel free to ask me via email questions about the assignment, or if you need help setting up Jupyter. If you have questions that reference a notebook you are working on, please include your notebook as an attachment in the email you send me.\n",
    "\n",
    "My intent for this homework is to learn how you think and where your problem solving skills are starting from. In order to convey this, written communication in your submission is vital."
   ]
  },
  {
   "cell_type": "code",
   "execution_count": 44,
   "id": "148d224e",
   "metadata": {},
   "outputs": [],
   "source": [
    "import random\n",
    "\n",
    "#The 'assignments' list will contain marks obtained by the student for all 30 assignments from Assignment 1 to Assignment 30 in that order\n",
    "assignments = [100,90,100,95,100,99,50,79,89,91,92,93,93,94,95,96,97,88,99,100,51,92,43,100,95,96,87,88,99,100]\n",
    "\n",
    "#The 'random_assignment' list will hold 10 randomly selected assignments' marks from the entire 'assignments' list.\n",
    "random_assignments = random.sample(assignments,10)\n",
    "\n",
    "#The 'projects' list will contain marks obtained by the student in all the projects from Project 1 to Project 3 in that order.\n",
    "projects =[100,100,95]\n",
    "\n",
    "#The 'attendance' list will hold the attendance status of the student in all 15 lectures. A 'P' indicates Present and an 'A' indicates Absent status\n",
    "attendance = ['P','A','P','A','P','A','P','A','P','P','P','P','P','P','P']\n"
   ]
  },
  {
   "cell_type": "code",
   "execution_count": 45,
   "id": "e4fa3265",
   "metadata": {},
   "outputs": [],
   "source": [
    "#Calculating the sum of marks obtained by the student in 10 randomly selected assignments in order to calculate the average marks obtained.\n",
    "\n",
    "assignment_Sum = 0;\n",
    "\n",
    "for marks in random_assignments:\n",
    "    assignment_Sum = assignment_Sum + marks;\n",
    "    \n",
    "avg_assignment_marks = assignment_Sum/10\n"
   ]
  },
  {
   "cell_type": "code",
   "execution_count": 46,
   "id": "2a2e9cc1",
   "metadata": {},
   "outputs": [],
   "source": [
    "#Calculating total no.of 'P' in the 'attendance' list and calculating the corresponding attendance percentage.\n",
    "\n",
    "attendance_P = 0;\n",
    "for status in attendance:\n",
    "    if (status == 'P'):\n",
    "        attendance_P = attendance_P + 1\n",
    "\n",
    "\n",
    "attendance_percentage =  (attendance_P * 100)/15\n",
    "\n"
   ]
  },
  {
   "cell_type": "code",
   "execution_count": 47,
   "id": "963c68ad",
   "metadata": {},
   "outputs": [],
   "source": [
    "#Calculating the cummulative percentage according to the weightage (percentage wise) each entity holds in the total marks.\n",
    "#The formula for calculating total marks = 30% of Assignment Marks + 20% of Project 1 Marks + 20% of Project 2 Marks + 20% of Project 2 Marks + 10% of Attendance Marks \n",
    "\n",
    "total_marks = (0.3 * avg_assignment_marks) + (0.2 * projects[0]) + (0.2 * projects[1]) + (0.2 * projects[2]) + (0.1 * attendance_percentage)\n"
   ]
  },
  {
   "cell_type": "code",
   "execution_count": 48,
   "id": "6532fbfd",
   "metadata": {},
   "outputs": [
    {
     "name": "stdout",
     "output_type": "stream",
     "text": [
      "The Grade obtained is: A-\n"
     ]
    }
   ],
   "source": [
    "#Computing the GRADE based on the total marks obtained by the students overall\n",
    "\n",
    "final_grade = 'F'\n",
    "\n",
    "if(total_marks >= 97.00):\n",
    "    final_grade = 'A'\n",
    "\n",
    "if(total_marks >= 90.00 and total_marks< 97.00 ):\n",
    "    final_grade = 'A-'\n",
    "\n",
    "if(total_marks >= 87.00 and total_marks< 90.00 ):\n",
    "    final_grade = 'B+'\n",
    "\n",
    "if(total_marks >= 84.00 and total_marks< 87.00 ):\n",
    "    final_grade = 'B'\n",
    "\n",
    "if(total_marks >= 80.00 and total_marks< 84.00 ):\n",
    "    final_grade = 'B-'\n",
    "\n",
    "if(total_marks >= 77.00 and total_marks< 80.00 ):\n",
    "    final_grade = 'C+'\n",
    "\n",
    "if(total_marks >= 74.00 and total_marks< 77.00 ):\n",
    "    final_grade = 'C'\n",
    "    \n",
    "if(total_marks >= 70.00 and total_marks< 74.00 ):\n",
    "    final_grade = 'C-'\n",
    "\n",
    "if(total_marks >= 60.00 and total_marks< 70.00 ):\n",
    "    final_grade = 'D'\n",
    "\n",
    "if(total_marks < 60):\n",
    "    final_grade = 'F'\n",
    "\n",
    "\n",
    "    \n",
    "print(\"The Grade obtained is: \"+final_grade)"
   ]
  }
 ],
 "metadata": {
  "kernelspec": {
   "display_name": "Python 3",
   "language": "python",
   "name": "python3"
  },
  "language_info": {
   "codemirror_mode": {
    "name": "ipython",
    "version": 3
   },
   "file_extension": ".py",
   "mimetype": "text/x-python",
   "name": "python",
   "nbconvert_exporter": "python",
   "pygments_lexer": "ipython3",
   "version": "3.8.8"
  }
 },
 "nbformat": 4,
 "nbformat_minor": 5
}
