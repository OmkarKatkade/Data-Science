{
 "cells": [
  {
   "cell_type": "markdown",
   "id": "8d1d7fad",
   "metadata": {},
   "source": [
    "Write a function that returns the count of characters and words in a string. Do not use the print() function to display the results. The string should provided to the function as an argument. Submit a .ipynb file via Blackboard. \n",
    "\n",
    "Modification for advanced students:\n",
    "\n",
    "Include error handling in the function. What happens if I don't pass a string? \n",
    "\n",
    "Raise an exception (with an error message) when appropriate."
   ]
  },
  {
   "cell_type": "code",
   "execution_count": 20,
   "id": "6539fba1",
   "metadata": {},
   "outputs": [
    {
     "name": "stdout",
     "output_type": "stream",
     "text": [
      "{'no_of_characters': 12, 'no_of_words': 3}\n"
     ]
    }
   ],
   "source": [
    "## Importing Regular Expression library. \n",
    "import re\n",
    "\n",
    "##Defining a new function to analyze the string.\n",
    "def analyze_string(var):\n",
    "    \n",
    "    ##Checking if the object received as a parameter is a string. Proceeding only if its a string or else raising an error.\n",
    "    if(isinstance(var, str) == True):\n",
    "        \n",
    "        ##No.of characters in a string is always going to be equal to the length of the string. This variable will hold the count of characters.\n",
    "        no_of_characters = len(var)\n",
    "            \n",
    "        ## Making use of findall function of re module. 'r' indicates raw string (does not consider \\ as escape character). '\\w' indicates any alphanumeric character. \n",
    "        words = len(re.findall(r'\\w+', var))\n",
    "            \n",
    "        ##Defining a dictionary and storing results in key:value pair.\n",
    "        analysis_result = {'no_of_characters':no_of_characters, 'no_of_words':words}\n",
    "        \n",
    "        ##Returning the result in the form of dictionary.\n",
    "        return analysis_result \n",
    "    \n",
    "    else:\n",
    "        ##Raising an error if the received paramter is not a string\n",
    "        raise ValueError(\"The value entered is not a string.\")\n",
    "\n",
    "##Calling our function here.\n",
    "results = analyze_string(\"I love UMBC!\") \n",
    "\n",
    "##We can display the results returned by the function to check the results.\n",
    "print(results)"
   ]
  },
  {
   "cell_type": "code",
   "execution_count": null,
   "id": "3ecf3c41",
   "metadata": {},
   "outputs": [],
   "source": []
  }
 ],
 "metadata": {
  "kernelspec": {
   "display_name": "Python 3",
   "language": "python",
   "name": "python3"
  },
  "language_info": {
   "codemirror_mode": {
    "name": "ipython",
    "version": 3
   },
   "file_extension": ".py",
   "mimetype": "text/x-python",
   "name": "python",
   "nbconvert_exporter": "python",
   "pygments_lexer": "ipython3",
   "version": "3.8.8"
  }
 },
 "nbformat": 4,
 "nbformat_minor": 5
}
