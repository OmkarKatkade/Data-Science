{
 "cells": [
  {
   "cell_type": "markdown",
   "id": "b7df5566",
   "metadata": {},
   "source": [
    "# OPENPYXL ASSIGNMENT:\n",
    "You get an Excel spreadsheet that has two worksheets, \"patient info\" and \"records\"\n",
    "\n",
    "Each worksheet has data and visualizations and formulas Each row in each worksheet represents information associated with a single person. Worksheet \"patient info\" has a \"patient id\" column; Worksheet \"records\" has a \"p_id\" column The \"patient id\" values in \"patient info\" tab are the same variable as \"p_id\" in \"records\". Some people have information on both sheets, while other people have information only on one sheet. Use openpyxl to copy information about patients from \"records\" to \"patient info\". Submit a notebook that reads the Excel spreadsheet and produces a separate Excel file with the following modifications:\n",
    "\n",
    "For each patient identified by \"p_id\" listed in the \"records\" sheet that don't exist in \"patient info,\" create a new row in \"patient info\". The row from \"records\" should be copied to the row in \"patient info.\" For each patient listed in the \"records\" sheet where \"p_id\" appears \"patient info\" under \"patient id,\" copy the data in the row from records to \"patient info\" sheet Make no changes to the visualizations that exist in each worksheet Make no changes to the data in the \"records\" sheet Write your changes to a new .xlsx file (don't overwrite the original)\n",
    "\n",
    "Observations: \n",
    "\"patient info\" worksheet will have new columns (because those new columns exist in the \"records\" worksheet)\n",
    "\"patient info\" worksheet will have new rows (one new row per patient) \n",
    "There will be empty cells in \"patient info\" worksheet\n",
    "Use a programmatic (rather than manual) approach to identify which patients appear in both worksheets\n",
    "Some cells in both worksheets contain formulas.\n",
    "Copy only values from \"records\" to \"patient info\""
   ]
  },
  {
   "cell_type": "code",
   "execution_count": 3,
   "id": "d833fd72",
   "metadata": {},
   "outputs": [
    {
     "name": "stdout",
     "output_type": "stream",
     "text": [
      "Requirement already satisfied: openpyxl in c:\\users\\omkar\\anaconda3\\lib\\site-packages (3.0.7)\n",
      "Requirement already satisfied: et-xmlfile in c:\\users\\omkar\\anaconda3\\lib\\site-packages (from openpyxl) (1.0.1)\n"
     ]
    }
   ],
   "source": [
    "# Installing and Importing all required libraries.\n",
    "\n",
    "!pip install openpyxl\n",
    "import openpyxl\n",
    "from openpyxl import load_workbook\n",
    "from openpyxl import Workbook\n",
    "\n",
    "\n",
    "# Loading the Excel sheet given in the assignment question to work on.\n",
    "try:\n",
    "    wb = openpyxl.load_workbook('week_05_homework_XLSX_openpyxl.xlsx')\n",
    "    sheet1 = wb.worksheets[0]                          # sheet1 will refer to the first sheet in the Excel File (i.e 'patient_info')\n",
    "    sheet2 = wb.worksheets[1]                          # sheet2 will refer to the first sheet in the Excel File (i.e 'records')\n",
    "    \n",
    "except FileNotFoundError:\n",
    "    print(\"The excel file could not be found in the memory. Please upload the excel file in the memory and try again!\")\n",
    "    \n"
   ]
  },
  {
   "cell_type": "code",
   "execution_count": 4,
   "id": "695573b9",
   "metadata": {},
   "outputs": [],
   "source": [
    "# Here, we will be adding headers of records sheet to the headers of patient_info sheet.\n",
    "\n",
    "header_list = []                                                             # This list will hold all the headers in the records sheet except p_id \n",
    "count = 0\n",
    "for header in sheet2[1]:                                                     # We will add the values of the headers in the list\n",
    "    if(count > 0):\n",
    "        header_list.append(header.value)\n",
    "    \n",
    "    count = count + 1\n",
    "\n",
    "sheet1_max_col = sheet1.max_column                                           # Getting maximum no.of columns in sheet1\n",
    "    \n",
    "for i in range(sheet1_max_col+1, sheet1_max_col + len(header_list)+1):       # Adding the headers to patient_info sheet cell by cell.\n",
    "    sheet1.cell(row=1, column=i, value= header_list[i-sheet1_max_col-1])\n",
    "        \n"
   ]
  },
  {
   "cell_type": "code",
   "execution_count": 5,
   "id": "35b7122b",
   "metadata": {},
   "outputs": [],
   "source": [
    "# Making a list of all patient id from patient_info sheet. We will use this list to check whether or not p_id exists in patient_info sheet.\n",
    "\n",
    "patient_id_list = []\n",
    "for cell in sheet1['A']:                # Travesing over the column 'A' in patient_info.\n",
    "    patient_id_list.append(cell.value)  # Adding the patient_id values to the list cell by cell."
   ]
  },
  {
   "cell_type": "code",
   "execution_count": 4,
   "id": "abd5d5d9",
   "metadata": {},
   "outputs": [
    {
     "name": "stdout",
     "output_type": "stream",
     "text": [
      "Done Merging the data\n"
     ]
    }
   ],
   "source": [
    "''' Here we will copy the data from records to patient_info as per the conditions provided in the assignment.\n",
    "    Also, please note that we will be maintaing only patient_id column in patient_info sheet instead of both patient_id and p_id\n",
    "    to avoid duplicate data columns.\n",
    "'''\n",
    "\n",
    "\n",
    "blank_list = [\"\",\"\",\"\",\"\",\"\"]                # Making an list of 5 elements (empty). We will use this list when p_id does not exists in patient_info already to add blank values to the sheet.\n",
    "sheet2_max_row = sheet2.max_row\n",
    "\n",
    "for index_2 in range(2,sheet2_max_row+1):   # Traversing through all the rows in the records sheet except the first row (i.e header row)\n",
    "    sheet2_row = sheet2[index_2]            # Getting an entire row from records sheet.\n",
    "    \n",
    "    \n",
    "    # Here, we will check if p_id exists in patient_info. If yes, we will copy row data from records to patient_info. \n",
    "    # Note: There are some instances where p_id and patient_id repeat themselves.\n",
    "    #       Therefore, we will only copy data from 'records' sheet to the first instance found in 'patient_info' sheet.\n",
    "    \n",
    "    try:                                            # Using try and except makes the code more efficient as we do not have to loop through the list of patient_id to check if p_id is present in patient_id or not.\n",
    "        index_in_list = patient_id_list.index(sheet2_row[0].value) + 1\n",
    "        sheet1_row = sheet1[index_in_list]\n",
    "        \n",
    "        \n",
    "        count = 0                                   # Using count just to avoid the first row. \n",
    "        for item in sheet2_row:\n",
    "            if(count > 0):\n",
    "                sheet1.cell(row= index_in_list, column=sheet1_max_col+count,value= item.value)\n",
    "            \n",
    "            count = count + 1\n",
    "        \n",
    "    # If p_id does not exists in the patient_info sheet, we will append the row to the end of patient_info. We will also take care of the blank fields here.   \n",
    "    except:\n",
    "        merged_list = []                             # This list will hold row data that is to be appended to the patient_info sheet\n",
    "        merged_list.append(sheet2_row[0].value)      # Since p_id is missing in patient_info, will assign p_id value to patient_id column in patient_info.\n",
    "        merged_list = merged_list + blank_list       # Values for the fields originally from patient_info will be blank in this case.\n",
    "        count = 0\n",
    "        for item in sheet2_row:\n",
    "            if(count > 0):\n",
    "                merged_list.append(item.value)       # Adding row values from records to the list. \n",
    "            \n",
    "            count = count + 1       \n",
    "        \n",
    "        sheet1.append(merged_list)                   # Appending the list to the end of the patient_info sheet.\n",
    "\n",
    "        \n",
    "print(\"Done Merging the data\")\n"
   ]
  },
  {
   "cell_type": "code",
   "execution_count": 5,
   "id": "a832bb16",
   "metadata": {},
   "outputs": [
    {
     "name": "stdout",
     "output_type": "stream",
     "text": [
      "New File saved with merged data as 'Merged_Data.xlsx'. \n"
     ]
    }
   ],
   "source": [
    "# Here we create a new Excel File and write the data from patient_info sheet and save this file.\n",
    "\n",
    "wb1 = Workbook()                            # Creating a new workbook here.\n",
    "filepath=\"Merged_Data.xlsx\"                 # Giving the name to the file.\n",
    "wb1.save(filepath)                          # Save the file.\n",
    "\n",
    "wb1 = load_workbook(filepath)               # Load the file again.\n",
    "sheet3 = wb1.active                         # Go to the active worksheet (There will be atleast one active worksheet associated with an Excel file)\n",
    "sheet3.title =\"Merged Records\"              # Title of this active sheet\n",
    "\n",
    "        \n",
    "for row in sheet1.values:                   # Traversing through all the rows in patient_info.But,in this case, we are only taking cell values from patient_info\n",
    "    list = []                               # This list will hold the row data from patient_info\n",
    "    for value in row:                       # Travering through each cell in the row.\n",
    "        list.append(value)                  # Appending value of each cell to the list.\n",
    "    \n",
    "    sheet3.append(list)                     # Appending the entire list to the new worksheet. \n",
    "\n",
    "\n",
    "try:\n",
    "    wb1.save(filepath)                      # Saving the file after traversing through all the rows in the patient_info sheet.\n",
    "    print(\"New File saved with merged data as 'Merged_Data.xlsx'. \")\n",
    "\n",
    "except:\n",
    "    print(\"Oops! Some Error occurred. File couldn't be saved with merged data.Please restart the kernel.\")"
   ]
  },
  {
   "cell_type": "code",
   "execution_count": null,
   "id": "8094f21d",
   "metadata": {},
   "outputs": [],
   "source": []
  }
 ],
 "metadata": {
  "kernelspec": {
   "display_name": "Python 3",
   "language": "python",
   "name": "python3"
  },
  "language_info": {
   "codemirror_mode": {
    "name": "ipython",
    "version": 3
   },
   "file_extension": ".py",
   "mimetype": "text/x-python",
   "name": "python",
   "nbconvert_exporter": "python",
   "pygments_lexer": "ipython3",
   "version": "3.8.8"
  }
 },
 "nbformat": 4,
 "nbformat_minor": 5
}
