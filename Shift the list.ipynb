{
 "cells": [
  {
   "cell_type": "markdown",
   "id": "ffbbd528",
   "metadata": {},
   "source": [
    "Write a function that takes a list as the argument and returns a list with each element shifted right by one index.\n",
    "For example, [3, 7, 4, 1] becomes [1, 3, 7, 4]\n",
    "Submit a .ipynb file via Blackboard. \n",
    "Modification for advanced students:\n",
    "Include error handling in the function. What happens if I don't pass a list? Can you shift characters in a string?\n",
    "Raise an exception (with an error message) when appropriate"
   ]
  },
  {
   "cell_type": "code",
   "execution_count": 9,
   "id": "f8663968",
   "metadata": {},
   "outputs": [
    {
     "name": "stdout",
     "output_type": "stream",
     "text": [
      "[9, 4, 5, 6, 7, 8]\n"
     ]
    }
   ],
   "source": [
    "##Defining a fucntion and taking a list as an input parameter.\n",
    "def shift_list(original_list):\n",
    "    \n",
    "    ##Storing the last element in the received list as we need to move the list by exactly one position.\n",
    "    temp = original_list[len(original_list) - 1]\n",
    "    \n",
    "    ##Initializing a new list which will hold the shifted elements and assigning the last element in the original_list as the first element in the new shifted list.\n",
    "    shifted_list = [temp]\n",
    "    \n",
    "    ##Looping on the received list from 0 to the second last element in the list and appending the elements to the new shifted list in sequential order.\n",
    "    for i in range(0, len(original_list)-1):\n",
    "        shifted_list.append(original_list[i])\n",
    "    \n",
    "    ##Finally, returning the new list with elements shifted by exactly one position.\n",
    "    return shifted_list\n",
    "\n",
    "##Initializing a new list that needs to be shifted by one position.\n",
    "my_list = [4,5,6,7,8,9]\n",
    "\n",
    "## Calling the 'shift_list' function and passing 'my_list'.\n",
    "my_list = shift_list(my_list)\n",
    "\n",
    "##Displaying the list recieved as a result from 'shift_list' function.\n",
    "print(my_list)"
   ]
  },
  {
   "cell_type": "code",
   "execution_count": null,
   "id": "00c337fa",
   "metadata": {},
   "outputs": [],
   "source": []
  }
 ],
 "metadata": {
  "kernelspec": {
   "display_name": "Python 3",
   "language": "python",
   "name": "python3"
  },
  "language_info": {
   "codemirror_mode": {
    "name": "ipython",
    "version": 3
   },
   "file_extension": ".py",
   "mimetype": "text/x-python",
   "name": "python",
   "nbconvert_exporter": "python",
   "pygments_lexer": "ipython3",
   "version": "3.8.8"
  }
 },
 "nbformat": 4,
 "nbformat_minor": 5
}
