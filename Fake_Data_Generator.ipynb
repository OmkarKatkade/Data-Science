{
 "cells": [
  {
   "cell_type": "markdown",
   "id": "85d8808d",
   "metadata": {},
   "source": [
    "# FAKE DATA GENERATION\n",
    "\n",
    "Write a Python notebook that generates a file containing the following data:\n",
    "Email addresses. Must have an \"@\"\n",
    "Phone numbers.\n",
    "Home Address.\n",
    "Person's name.\n",
    "Year born. Use realistic values.\n",
    "Number of kids. Use realistic values.\n",
    "Categorical variable: rent or own?\n",
    "Annual income. Optional challenge: Use a non-uniform distribution​\n",
    "Number of speeding tickets in past year. Optional challenge: Use a non-uniform distribution\n",
    "The user of your notebook should be able to specify how many entities are to be generated.\n",
    "Do not include the .csv output file in your submission -- the file should be generated dynamically.\n",
    "Order of columns in CSV is not relevant.\n",
    "See slides in lecture for tips."
   ]
  },
  {
   "cell_type": "code",
   "execution_count": 112,
   "id": "5da01473",
   "metadata": {},
   "outputs": [
    {
     "name": "stdout",
     "output_type": "stream",
     "text": [
      "Requirement already satisfied: names in c:\\users\\omkar\\anaconda3\\lib\\site-packages (0.3.0)\n",
      "Requirement already satisfied: Faker in c:\\users\\omkar\\anaconda3\\lib\\site-packages (8.13.2)\n",
      "Requirement already satisfied: python-dateutil>=2.4 in c:\\users\\omkar\\anaconda3\\lib\\site-packages (from Faker) (2.8.1)\n",
      "Requirement already satisfied: text-unidecode==1.3 in c:\\users\\omkar\\anaconda3\\lib\\site-packages (from Faker) (1.3)\n",
      "Requirement already satisfied: six>=1.5 in c:\\users\\omkar\\anaconda3\\lib\\site-packages (from python-dateutil>=2.4->Faker) (1.15.0)\n"
     ]
    }
   ],
   "source": [
    "#This cell will take care of all the imports required. Note: Executing cells in sequential manner is important for generating accurate data.\n",
    "\n",
    "#Importing sys package which will help us install two packages, namely: names and Faker. These are not present by default and hence needs to be installed.\n",
    "import sys\n",
    "!{sys.executable} -m pip install names\n",
    "!{sys.executable} -m pip install Faker\n",
    "\n",
    "#Importing few more packages. Importing names, random and pandas with respective alias names. \n",
    "import names\n",
    "import random as r\n",
    "import pandas as pd\n",
    "\n",
    "#No. of entities can be changed by the user. The number indicates no.of records to be generated.\n",
    "no_of_entities = 20\n"
   ]
  },
  {
   "cell_type": "code",
   "execution_count": 113,
   "id": "0b2c90a7",
   "metadata": {},
   "outputs": [
    {
     "name": "stdout",
     "output_type": "stream",
     "text": [
      "['Linda Whitehead', 'Diana Dietrick', 'John White', 'Gustavo Jones', 'Ronald Wright', 'Beatrice Cheng', 'Joy Pryor', 'Dawn Wallace', 'Jill Ascencio', 'William Lapinsky', 'Mary Sofia', 'Cecil Bias', 'David Craft', 'Charles Alvarado', 'Nancy Campbell', 'Paul Hunter', 'Julie Banks', 'Wesley Snipes', 'Gerald Smith', 'Beth Rains']\n"
     ]
    }
   ],
   "source": [
    "#In this cell, we generate as many names as requested by the user. We make use of names library to generate names.\n",
    "names_list = []\n",
    "\n",
    "for x in range(no_of_entities):\n",
    "    names_list.append(names.get_full_name())\n",
    "    \n",
    "print(names_list)"
   ]
  },
  {
   "cell_type": "code",
   "execution_count": 114,
   "id": "042162db",
   "metadata": {},
   "outputs": [
    {
     "name": "stdout",
     "output_type": "stream",
     "text": [
      "['linda.whitehead@rediffmail.com', 'diana.dietrick@gmail.com', 'john.white@rediffmail.com', 'gustavo.jones@gmail.com', 'ronald.wright@rediffmail.com', 'beatrice.cheng@rediffmail.com', 'joy.pryor@yahoo.com', 'dawn.wallace@yahoo.com', 'jill.ascencio@rediffmail.com', 'william.lapinsky@gmail.com', 'mary.sofia@gmail.com', 'cecil.bias@rediffmail.com', 'david.craft@yahoo.com', 'charles.alvarado@yahoo.com', 'nancy.campbell@gmail.com', 'paul.hunter@yahoo.com', 'julie.banks@rediffmail.com', 'wesley.snipes@yahoo.com', 'gerald.smith@yahoo.com', 'beth.rains@yahoo.com']\n"
     ]
    }
   ],
   "source": [
    "#Here we generate email ids for the names generated in the cell above. We separate the full name generated above -\n",
    "# - into first and last name. And use this first and last name to generate the email id \n",
    "\n",
    "email_id_list = []\n",
    "for name in names_list:\n",
    "    names_splitted = name.split(\" \")\n",
    "    email = names_splitted[0].lower() + \".\" + names_splitted[1].lower() + \"@\" + r.choice([\"gmail.com\", \"yahoo.com\", \"rediffmail.com\"])\n",
    "    email_id_list.append(email)\n",
    "\n",
    "print(email_id_list)"
   ]
  },
  {
   "cell_type": "code",
   "execution_count": 115,
   "id": "13aed0ea",
   "metadata": {},
   "outputs": [
    {
     "name": "stdout",
     "output_type": "stream",
     "text": [
      "['+1(247)698-4032', '+1(944)880-4661', '+1(535)885-6205', '+1(495)484-2647', '+1(354)924-0206', '+1(858)220-4051', '+1(721)938-1458', '+1(899)970-5662', '+1(583)599-8022', '+1(684)248-0348', '+1(327)061-2752', '+1(249)720-8556', '+1(199)247-6055', '+1(869)408-6717', '+1(452)120-2900', '+1(869)671-5416', '+1(924)276-6296', '+1(210)478-8589', '+1(604)261-4326', '+1(565)630-1128']\n"
     ]
    }
   ],
   "source": [
    "# Generating phone numbers here. Following US phone number pattern to generate the same.\n",
    "# Area_Code identifies the area the user belongs to. It has to be a 3-digit code.\n",
    "# Prefix and Subscriber code suggests the switch code and number. They should be a 3-digit code and 4-digit code respectively.\n",
    "# Together they make a phone number or line number. Also, adding country code (+1) to the beginning to make it more appropriate.\n",
    "\n",
    "phone_numbers =[]\n",
    "\n",
    "def generate_number():\n",
    "    area_code = str(r.randint(100, 999))\n",
    "    prefix_code = str(r.randint(1, 999)).zfill(3)\n",
    "    subscriber_code = str(r.randint(1,9999)).zfill(4)\n",
    "    \n",
    "    return '+1'+ '(' + area_code+ ')'+ prefix_code+'-'+subscriber_code\n",
    "\n",
    "for x in range(no_of_entities):\n",
    "    phone_numbers.append(generate_number())\n",
    "\n",
    "print(phone_numbers)"
   ]
  },
  {
   "cell_type": "code",
   "execution_count": 116,
   "id": "916f9a9c",
   "metadata": {},
   "outputs": [
    {
     "name": "stdout",
     "output_type": "stream",
     "text": [
      "['65873 Chen Knolls, Ramirezfurt, WI 94134', 'Unit 1741 Box 7253, DPO AP 25003', 'USNV Porter, FPO AE 89774', '8799 Emma Parkway Suite 735, North Thomasfurt, IN 57039', 'Unit 9061 Box 4352, DPO AE 24201', '30068 David View Apt. 173, New Peggychester, ND 23718', 'PSC 3667, Box 0636, APO AE 81210', 'USS Aguilar, FPO AP 48665', '298 Johnathan Cove Apt. 402, South Jamie, MD 26932', '171 Harrison Motorway, Davidview, CO 74554', '3576 Sergio Avenue, Benjaminmouth, NE 32097', '37457 Tanya Pike Apt. 348, North Ericton, RI 21519', '3673 Peter Turnpike Suite 835, New Sandra, PA 76875', '939 Johnson Oval Suite 830, North Dennismouth, TX 80451', '645 Jennings Estates, Angelastad, NV 51726', '1231 Stephanie Lock Suite 835, North Richardland, MT 77240', '302 Parker Plains Apt. 197, East Robertstad, CO 98152', '098 Hernandez Green, New Sergiobury, MS 98277', '94102 Sims Port Suite 187, Florestown, NE 80082', '01630 Baker Crescent, Kellyborough, ND 71531']\n"
     ]
    }
   ],
   "source": [
    "# Generating Home Address here.\n",
    "# Using Faker library to get randomly generated address and processing the results received further to make it more appropriate and readable.\n",
    "\n",
    "from faker import Faker\n",
    "fake = Faker()\n",
    "address_list= []\n",
    "for i in range(no_of_entities):\n",
    "    address = fake.address()\n",
    "    address = address.replace(\"\\n\", \", \")\n",
    "    address_list.append(address)\n",
    "    \n",
    "print(address_list)\n"
   ]
  },
  {
   "cell_type": "code",
   "execution_count": 117,
   "id": "43837df0",
   "metadata": {},
   "outputs": [],
   "source": [
    "# Generating year born, no.of kids, car ownership, no of tickets and annualy income data here.\n",
    "# Making use of random package here to generate the data. Generating all this data in a single for loop.\n",
    "\n",
    "year_born_list = []\n",
    "no_of_kids_list = []\n",
    "car_ownership_list = []\n",
    "no_of_tickets_list = []\n",
    "annual_income_list = []\n",
    "\n",
    "for i in range(no_of_entities):\n",
    "    year_born_list.append(r.randint(1950,2002))\n",
    "    no_of_kids_list.append(r.randint(0,3))\n",
    "    car_ownership_list.append(r.choice(['Rent', 'Own']))\n",
    "    no_of_tickets_list.append(r.randint(0,5))\n",
    "    annual_income_list.append('$ ' + str(r.randint(10000, 200000)))\n",
    "    "
   ]
  },
  {
   "cell_type": "code",
   "execution_count": 118,
   "id": "2a3fb622",
   "metadata": {},
   "outputs": [],
   "source": [
    "# Finally, creating a dictionary and adding the generated data lists as value to the respective keys in the dictionary\n",
    "\n",
    "dict = {'Name': names_list, 'Email_ID': email_id_list, 'Phone No.': phone_numbers, 'Address': address_list,\n",
    "        'Year Born': year_born_list, 'No. Of Kids': no_of_kids_list, 'Car Ownership': car_ownership_list,\n",
    "        'No. Of Tickets': no_of_tickets_list, 'Annual Income': annual_income_list}\n",
    "\n",
    "# Using Panda to create a data frame out of the dictionary we created above.\n",
    "df = pd.DataFrame(dict)\n",
    "  \n",
    "# Converting the data frame to a csv file and saving the file. The file will be saved in the same location as this jupyter notebook file.\n",
    "df.to_csv('Not_So_Fake_Data.csv', header = True, index = False)"
   ]
  },
  {
   "cell_type": "code",
   "execution_count": null,
   "id": "aaaf1531",
   "metadata": {},
   "outputs": [],
   "source": []
  }
 ],
 "metadata": {
  "kernelspec": {
   "display_name": "Python 3",
   "language": "python",
   "name": "python3"
  },
  "language_info": {
   "codemirror_mode": {
    "name": "ipython",
    "version": 3
   },
   "file_extension": ".py",
   "mimetype": "text/x-python",
   "name": "python",
   "nbconvert_exporter": "python",
   "pygments_lexer": "ipython3",
   "version": "3.8.8"
  }
 },
 "nbformat": 4,
 "nbformat_minor": 5
}
